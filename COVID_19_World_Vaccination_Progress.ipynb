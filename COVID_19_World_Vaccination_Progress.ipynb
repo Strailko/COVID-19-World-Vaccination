{
  "nbformat": 4,
  "nbformat_minor": 0,
  "metadata": {
    "colab": {
      "name": "COVID-19 World Vaccination Progress.ipynb",
      "provenance": [],
      "collapsed_sections": [],
      "toc_visible": true
    },
    "kernelspec": {
      "name": "python3",
      "display_name": "Python 3"
    },
    "language_info": {
      "name": "python"
    }
  },
  "cells": [
    {
      "cell_type": "markdown",
      "metadata": {
        "id": "uYaboFNoQicz"
      },
      "source": [
        "# COVID-19 World Vaccination Progress\n"
      ]
    },
    {
      "cell_type": "markdown",
      "metadata": {
        "id": "q8d5Bc_lRkYU"
      },
      "source": [
        "КОЈ\n",
        "КОГА\n",
        "КАКО \n",
        "ЗОШТО\n",
        "МЕНТОРИ"
      ]
    },
    {
      "cell_type": "markdown",
      "metadata": {
        "id": "VGv4i3RJRHji"
      },
      "source": [
        "# Апстракт\n"
      ]
    },
    {
      "cell_type": "markdown",
      "metadata": {
        "id": "drvaTvFYRcxL"
      },
      "source": [
        "ПРОЕКТОТ ШТО СОДРЖИ"
      ]
    },
    {
      "cell_type": "markdown",
      "metadata": {
        "id": "XmQJfOpEPXWg"
      },
      "source": [
        "# Вовед\n"
      ]
    },
    {
      "cell_type": "markdown",
      "metadata": {
        "id": "BQ2GOlANT7kq"
      },
      "source": [
        "## Иницијализација на библиотеки"
      ]
    },
    {
      "cell_type": "markdown",
      "metadata": {
        "id": "rin8ik1ZRgFV"
      },
      "source": [
        "ЦЕЛИ НА ПРОЕКТОТ, ИНСПИРАЦИЈА, ВИДОВИ ПОДАТОЦИ, КОНТЕКСТ "
      ]
    },
    {
      "cell_type": "markdown",
      "metadata": {
        "id": "HH9HmblKQzOy"
      },
      "source": [
        "# Прибирање и екстракција на податоци"
      ]
    },
    {
      "cell_type": "markdown",
      "metadata": {
        "id": "QcL-u9a2UigD"
      },
      "source": [
        "Zema podatoci za cov-19 od poslednite x dena za site drzavi\n",
        "\n",
        "---"
      ]
    },
    {
      "cell_type": "code",
      "metadata": {
        "id": "ArPMyK0AUwBu"
      },
      "source": [
        "from datetime import timedelta, date\n",
        "import requests\n",
        "import pandas as pd\n",
        "import numpy as np\n",
        "from pandas import json_normalize\n",
        "import json"
      ],
      "execution_count": null,
      "outputs": []
    },
    {
      "cell_type": "code",
      "metadata": {
        "id": "CX5vNvMJWLA7",
        "colab": {
          "base_uri": "https://localhost:8080/"
        },
        "outputId": "de3f50d2-ce9d-4e91-f154-70cc6f52a113"
      },
      "source": [
        "x = input()"
      ],
      "execution_count": null,
      "outputs": [
        {
          "output_type": "stream",
          "text": [
            "1\n"
          ],
          "name": "stdout"
        }
      ]
    },
    {
      "cell_type": "code",
      "metadata": {
        "id": "uPD5auNiUDql"
      },
      "source": [
        "date_to = date.today() - timedelta(days = 1)\n",
        "date_from = date_to - timedelta(days = int(x))\n",
        "datesPerCountry = []\n",
        "\n",
        "url = 'https://api.covid19tracking.narrativa.com/api?date_from='+date_from.strftime(\"%Y-%m-%d\")+'&date_to='+date_to.strftime(\"%Y-%m-%d\")\n",
        "response = requests.get(url)"
      ],
      "execution_count": null,
      "outputs": []
    },
    {
      "cell_type": "code",
      "metadata": {
        "id": "7y8xTCJGelJs"
      },
      "source": [
        "strResp = json.dumps(response.json())\n",
        "obj = json.loads(strResp)"
      ],
      "execution_count": null,
      "outputs": []
    },
    {
      "cell_type": "code",
      "metadata": {
        "id": "dfI1Tr1IipGF"
      },
      "source": [
        "dictDates = obj[\"dates\"]\n",
        "dates = list(dictDates.keys())"
      ],
      "execution_count": null,
      "outputs": []
    },
    {
      "cell_type": "code",
      "metadata": {
        "id": "m8FnK0zxjJOq"
      },
      "source": [
        "dictCountries = dictDates[date_to.strftime(\"%Y-%m-%d\")][\"countries\"]\n",
        "countries = list(dictCountries.keys())"
      ],
      "execution_count": null,
      "outputs": []
    },
    {
      "cell_type": "code",
      "metadata": {
        "id": "lDo_LUj61VMn"
      },
      "source": [
        "clmns = ['today_confirmed', 'today_deaths', 'today_new_confirmed', 'today_new_deaths', 'today_new_open_cases', 'today_new_recovered', 'today_open_cases', 'today_recovered']"
      ],
      "execution_count": null,
      "outputs": []
    },
    {
      "cell_type": "code",
      "metadata": {
        "id": "PTlSrzyFmXAD"
      },
      "source": [
        "allCountries = []\n",
        "for country in countries:\n",
        "  perCountryStats = []\n",
        "  for date in dates:\n",
        "    perCountryStats.append([dictDates[date][\"countries\"][country]['today_confirmed'],\n",
        "                    dictDates[date][\"countries\"][country]['today_deaths'],\n",
        "                    dictDates[date][\"countries\"][country]['today_new_confirmed'],\n",
        "                    dictDates[date][\"countries\"][country]['today_new_deaths'],\n",
        "                    dictDates[date][\"countries\"][country]['today_new_open_cases'],\n",
        "                    dictDates[date][\"countries\"][country]['today_new_recovered'],\n",
        "                    dictDates[date][\"countries\"][country]['today_open_cases'],\n",
        "                    dictDates[date][\"countries\"][country]['today_recovered']])\n",
        "  df = pd.DataFrame(perCountryStats, index=dates, columns=clmns)\n",
        "  allCountries.append([country, df])"
      ],
      "execution_count": null,
      "outputs": []
    },
    {
      "cell_type": "code",
      "metadata": {
        "colab": {
          "base_uri": "https://localhost:8080/"
        },
        "id": "KWy6qwY_ymn1",
        "outputId": "9765ba31-03b1-4a0d-c81c-cb9f1b43e934"
      },
      "source": [
        "total = []\n",
        "for date in dates:\n",
        "  perDateUrl = 'https://api.covid19tracking.narrativa.com/api/'+date_from.strftime(\"%Y-%m-%d\")\n",
        "  resp = requests.get(perDateUrl)\n",
        "  totalStrResp = json.dumps(response.json())\n",
        "  totalObj = json.loads(totalStrResp)\n",
        "  total.append([date, totalObj[\"total\"][\"today_confirmed\"],\n",
        "  totalObj[\"total\"]['today_deaths'],\n",
        "  totalObj[\"total\"]['today_new_confirmed'],\n",
        "  totalObj[\"total\"]['today_new_deaths'],\n",
        "  totalObj[\"total\"]['today_new_open_cases'],\n",
        "  totalObj[\"total\"]['today_new_recovered'],\n",
        "  totalObj[\"total\"]['today_open_cases'],\n",
        "  totalObj[\"total\"]['today_recovered']])"
      ],
      "execution_count": null,
      "outputs": [
        {
          "output_type": "execute_result",
          "data": {
            "text/plain": [
              "[['2021-04-19',\n",
              "  142378869,\n",
              "  3034842,\n",
              "  390485,\n",
              "  5989,\n",
              "  85831,\n",
              "  298665,\n",
              "  47009679,\n",
              "  92334348],\n",
              " ['2021-04-20',\n",
              "  142378869,\n",
              "  3034842,\n",
              "  390485,\n",
              "  5989,\n",
              "  85831,\n",
              "  298665,\n",
              "  47009679,\n",
              "  92334348]]"
            ]
          },
          "metadata": {
            "tags": []
          },
          "execution_count": 128
        }
      ]
    },
    {
      "cell_type": "code",
      "metadata": {
        "colab": {
          "base_uri": "https://localhost:8080/"
        },
        "id": "nwtMQwC-kDjc",
        "outputId": "f43452e4-bfb7-4c9d-d801-e98733d80a46"
      },
      "source": [
        "#DATA\n",
        "#Array of arrsys consisting of country name and dataframe with dates for rows and data params for columns with covid data for the country for each specific date\n",
        "print(allCountries[0][1])\n",
        "#Same structure in DICT\n",
        "allDict = dict(allCountries)\n",
        "\n",
        "#Array of arrays consisting of date and global covid data for the date\n",
        "newClmns = ['date', *clmns]\n",
        "totalDf = pd.DataFrame(total, columns=newClmns)pp\n",
        "print(totalDf)"
      ],
      "execution_count": null,
      "outputs": [
        {
          "output_type": "stream",
          "text": [
            "            today_confirmed  today_deaths  ...  today_open_cases  today_recovered\n",
            "2021-04-19            57898          2546  ...              3108            52244\n",
            "2021-04-20            58037          2549  ...              3216            52272\n",
            "\n",
            "[2 rows x 9 columns]\n",
            "         date  today_confirmed  ...  today_open_cases  today_recovered\n",
            "0  2021-04-19        142378869  ...          47009679         92334348\n",
            "1  2021-04-20        142378869  ...          47009679         92334348\n",
            "\n",
            "[2 rows x 9 columns]\n"
          ],
          "name": "stdout"
        }
      ]
    },
    {
      "cell_type": "markdown",
      "metadata": {
        "id": "BvRb2RG0Tfhb"
      },
      "source": [
        "## Creating  DataFrames"
      ]
    },
    {
      "cell_type": "code",
      "metadata": {
        "id": "j_rOJviC5N3D"
      },
      "source": [
        ""
      ],
      "execution_count": null,
      "outputs": []
    },
    {
      "cell_type": "markdown",
      "metadata": {
        "id": "d8ZKDTwJRB1o"
      },
      "source": [
        "# Визуелизација\n"
      ]
    },
    {
      "cell_type": "markdown",
      "metadata": {
        "id": "sfozl4mxSkH5"
      },
      "source": [
        "## Covid 19 вкупно случаи"
      ]
    },
    {
      "cell_type": "markdown",
      "metadata": {
        "id": "X9HEF3QQSq_t"
      },
      "source": [
        "## Covid 19 вакцинација "
      ]
    },
    {
      "cell_type": "markdown",
      "metadata": {
        "id": "9fQP34zwSy1c"
      },
      "source": [
        "## Covid 19  вакцинација твитови"
      ]
    },
    {
      "cell_type": "markdown",
      "metadata": {
        "id": "JBlGHjV6SeOj"
      },
      "source": [
        "кои карактеристики ќе ги коритиме за моделот"
      ]
    },
    {
      "cell_type": "markdown",
      "metadata": {
        "id": "Vt8sOMSCSDFC"
      },
      "source": [
        "# МОДЕЛ"
      ]
    },
    {
      "cell_type": "markdown",
      "metadata": {
        "id": "5WpzyZyCSVIm"
      },
      "source": [
        "# Заклучок"
      ]
    }
  ]
}